{
  "nbformat": 4,
  "nbformat_minor": 0,
  "metadata": {
    "colab": {
      "provenance": []
    },
    "kernelspec": {
      "name": "python3",
      "display_name": "Python 3"
    },
    "language_info": {
      "name": "python"
    }
  },
  "cells": [
    {
      "cell_type": "markdown",
      "source": [
        "Script used for data augmentation - generating new images; new image for each of the original images\n",
        "\n",
        "It uses several transformation functions:\n",
        "\n",
        "* random_rotation(image): Rotates the image by a random angle between -30 and 30 degrees.\n",
        "* random_translation(image): Shifts the image randomly in both x and y directions by up to 20% of its dimensions.\n",
        "* random_flip(image): Horizontally flips the image with a 50% probability.\n",
        "* random_zoom(image): Zooms in or out on the image by a factor between 0.8 and 1.2, cropping or padding as needed.\n",
        "* random_brightness_contrast(image): Randomly adjusts the brightness and contrast of the image.\n",
        "* add_noise(image): Adds random Gaussian noise to the image.\n",
        "* random_perspective(image): Applies a random perspective transformation to the image.\n",
        "* augment_image(image): Applies a random combination of the above transformations to an image.\n",
        "* augment_images_in_subfolders(base_folder): Processes all images in a specified folder, applying augmentations and saving the new images with modified filenames."
      ],
      "metadata": {
        "id": "eSbl4s3XOQaJ"
      }
    },
    {
      "cell_type": "code",
      "source": [
        "import cv2\n",
        "import os\n",
        "import random\n",
        "import numpy as np"
      ],
      "metadata": {
        "id": "pEeVqnqHObrL"
      },
      "execution_count": null,
      "outputs": []
    },
    {
      "cell_type": "code",
      "source": [
        "def random_rotation(image):\n",
        "    angle = random.uniform(-30, 30)\n",
        "    h, w = image.shape[:2]\n",
        "    M = cv2.getRotationMatrix2D((w / 2, h / 2), angle, 1)\n",
        "    return cv2.warpAffine(image, M, (w, h))"
      ],
      "metadata": {
        "id": "ObT5LpGcOenZ"
      },
      "execution_count": null,
      "outputs": []
    },
    {
      "cell_type": "code",
      "source": [
        "def random_translation(image):\n",
        "    h, w = image.shape[:2]\n",
        "    tx = random.uniform(-0.2, 0.2) * w\n",
        "    ty = random.uniform(-0.2, 0.2) * h\n",
        "    M = np.float32([[1, 0, tx], [0, 1, ty]])\n",
        "    return cv2.warpAffine(image, M, (w, h))"
      ],
      "metadata": {
        "id": "HUXego-sOgLX"
      },
      "execution_count": null,
      "outputs": []
    },
    {
      "cell_type": "code",
      "source": [
        "def random_flip(image):\n",
        "    if random.random() < 0.5:\n",
        "        return cv2.flip(image, 1)\n",
        "    return image"
      ],
      "metadata": {
        "id": "dXv7KkMOOi1p"
      },
      "execution_count": null,
      "outputs": []
    },
    {
      "cell_type": "code",
      "source": [
        "def random_zoom(image):\n",
        "    h, w = image.shape[:2]\n",
        "    scale = random.uniform(0.8, 1.2)\n",
        "    new_h, new_w = int(h * scale), int(w * scale)\n",
        "    image = cv2.resize(image, (new_w, new_h))\n",
        "    if scale > 1.0:\n",
        "        start_x = (new_w - w) // 2\n",
        "        start_y = (new_h - h) // 2\n",
        "        return image[start_y:start_y + h, start_x:start_x + w]\n",
        "    else:\n",
        "        pad_x = (w - new_w) // 2\n",
        "        pad_y = (h - new_h) // 2\n",
        "        return cv2.copyMakeBorder(image, pad_y, pad_y, pad_x, pad_x, cv2.BORDER_CONSTANT, value=[0, 0, 0])"
      ],
      "metadata": {
        "id": "_7A5_QsNOjZt"
      },
      "execution_count": null,
      "outputs": []
    },
    {
      "cell_type": "code",
      "source": [
        "def random_brightness_contrast(image):\n",
        "    alpha = random.uniform(0.8, 1.2)  # Contrast control\n",
        "    beta = random.randint(-30, 30)    # Brightness control\n",
        "    return cv2.convertScaleAbs(image, alpha=alpha, beta=beta)"
      ],
      "metadata": {
        "id": "ei_Jk-VxOmpz"
      },
      "execution_count": null,
      "outputs": []
    },
    {
      "cell_type": "code",
      "source": [
        "def add_noise(image):\n",
        "    row, col, ch = image.shape\n",
        "    mean = 0\n",
        "    var = 10\n",
        "    sigma = var ** 0.5\n",
        "    gauss = np.random.normal(mean, sigma, (row, col, ch))\n",
        "    noisy = image + gauss.reshape(row, col, ch)\n",
        "    return np.clip(noisy, 0, 255).astype(np.uint8)"
      ],
      "metadata": {
        "id": "y_GreWp7OoTK"
      },
      "execution_count": null,
      "outputs": []
    },
    {
      "cell_type": "code",
      "source": [
        "def random_perspective(image):\n",
        "    h, w = image.shape[:2]\n",
        "    pts1 = np.float32([[0, 0], [w, 0], [0, h], [w, h]])\n",
        "    shift = 50\n",
        "    pts2 = np.float32([[random.randint(-shift, shift), random.randint(-shift, shift)],\n",
        "                       [w + random.randint(-shift, shift), random.randint(-shift, shift)],\n",
        "                       [random.randint(-shift, shift), h + random.randint(-shift, shift)],\n",
        "                       [w + random.randint(-shift, shift), h + random.randint(-shift, shift)]])\n",
        "    M = cv2.getPerspectiveTransform(pts1, pts2)\n",
        "    return cv2.warpPerspective(image, M, (w, h))"
      ],
      "metadata": {
        "id": "nyt-yn0vOrQI"
      },
      "execution_count": null,
      "outputs": []
    },
    {
      "cell_type": "code",
      "source": [
        "def augment_image(image):\n",
        "    if random.random() < 0.5:\n",
        "        image = random_rotation(image)\n",
        "    if random.random() < 0.5:\n",
        "        image = random_translation(image)\n",
        "    if random.random() < 0.5:\n",
        "        image = random_flip(image)\n",
        "    if random.random() < 0.5:\n",
        "        image = random_zoom(image)\n",
        "    if random.random() < 0.5:\n",
        "        image = random_brightness_contrast(image)\n",
        "    if random.random() < 0.5:\n",
        "        image = add_noise(image)\n",
        "    if random.random() < 0.5:\n",
        "        image = random_perspective(image)\n",
        "    return image"
      ],
      "metadata": {
        "id": "8EDItd6XOvt3"
      },
      "execution_count": null,
      "outputs": []
    },
    {
      "cell_type": "code",
      "source": [
        "def augment_images_in_subfolders(base_folder):\n",
        "    for class_name in os.listdir(base_folder):\n",
        "        class_folder = os.path.join(base_folder, class_name)\n",
        "        if not os.path.isdir(class_folder):\n",
        "            continue\n",
        "\n",
        "        for image_file in os.listdir(class_folder):\n",
        "            image_path = os.path.join(class_folder, image_file)\n",
        "            if not os.path.isfile(image_path):\n",
        "                continue\n",
        "\n",
        "            image = cv2.imread(image_path)\n",
        "            if image is None:\n",
        "                print(f\"Warning: Unable to read image {image_path}\")\n",
        "                continue\n",
        "\n",
        "            augmented_image = augment_image(image)\n",
        "            augmented_image_name = f'{os.path.splitext(image_file)[0]}_aug.jpg'\n",
        "            augmented_image_path = os.path.join(class_folder, augmented_image_name)\n",
        "            cv2.imwrite(augmented_image_path, augmented_image)\n",
        "\n",
        "    print(\"Data augmentation completed and augmented images are saved.\")\n"
      ],
      "metadata": {
        "id": "3UD8aa9XOyAS"
      },
      "execution_count": null,
      "outputs": []
    },
    {
      "cell_type": "code",
      "source": [
        "base_folder = '../datasets/TrashNet_augmentedx2'\n",
        "augment_images_in_subfolders(base_folder)"
      ],
      "metadata": {
        "id": "3C1ZjbooOysJ"
      },
      "execution_count": null,
      "outputs": []
    }
  ]
}